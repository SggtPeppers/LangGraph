{
 "cells": [
  {
   "cell_type": "markdown",
   "id": "8a31cdf8",
   "metadata": {},
   "source": [
    "<h1>Exercise 2</h2>"
   ]
  },
  {
   "cell_type": "code",
   "execution_count": 6,
   "id": "2f3b6e1e",
   "metadata": {},
   "outputs": [],
   "source": [
    "from typing import TypedDict, List\n",
    "from langgraph.graph import StateGraph\n",
    "from math import prod"
   ]
  },
  {
   "cell_type": "code",
   "execution_count": 7,
   "id": "1155873a",
   "metadata": {},
   "outputs": [],
   "source": [
    "class AgentState(TypedDict):\n",
    "    values: List[int]\n",
    "    name: str\n",
    "    operation: str\n",
    "    result: str"
   ]
  },
  {
   "cell_type": "code",
   "execution_count": 27,
   "id": "2011c3a9",
   "metadata": {},
   "outputs": [],
   "source": [
    "\n",
    "import stat\n",
    "\n",
    "\n",
    "def procces_operation(state: AgentState) -> AgentState:\n",
    "    \"\"\"This function will process the operation\"\"\"\n",
    "    if state['operation'] == \"+\":\n",
    "        state['result'] = f\"Hi {state['name']} your result is {sum(state['values'])}\"\n",
    "    elif state['operation'] == \"*\":\n",
    "        state['result'] = f\"Hi {state['name']} your result is {prod(state['values'])}\"\n",
    "    else:\n",
    "        state['result'] = \"Invalid Operation\"\n",
    "    \n",
    "    return state\n"
   ]
  },
  {
   "cell_type": "code",
   "execution_count": 28,
   "id": "c2286190",
   "metadata": {},
   "outputs": [],
   "source": [
    "graph = StateGraph(AgentState)\n",
    "\n",
    "graph.add_node(\"proccesor\", procces_operation)\n",
    "graph.set_entry_point(\"proccesor\")\n",
    "graph.set_finish_point(\"proccesor\")\n",
    "\n",
    "app = graph.compile()"
   ]
  },
  {
   "cell_type": "code",
   "execution_count": 11,
   "id": "5adadb2c",
   "metadata": {},
   "outputs": [
    {
     "data": {
      "image/png": "[encoded data removed]",
      "text/plain": [
       "<IPython.core.display.Image object>"
      ]
     },
     "metadata": {},
     "output_type": "display_data"
    }
   ],
   "source": [
    "from IPython.display import Image, display\n",
    "display(Image(app.get_graph().draw_mermaid_png()))"
   ]
  },
  {
   "cell_type": "code",
   "execution_count": 33,
   "id": "190e42be",
   "metadata": {},
   "outputs": [],
   "source": [
    "answerAdd = app.invoke({\"values\": [1, 2, 3, 4], \"name\": \"Coke\",\"operation\": \"+\"})\n",
    "answerMul = app.invoke({\"values\": [1, 2, 3, 4], \"name\": \"Coke\",\"operation\": \"*\"})\n",
    "answerWrong = app.invoke({\"values\": [1, 2, 3, 4], \"name\": \"Coke\",\"operation\": \"?\"})"
   ]
  },
  {
   "cell_type": "code",
   "execution_count": 34,
   "id": "772613e1",
   "metadata": {},
   "outputs": [
    {
     "name": "stdout",
     "output_type": "stream",
     "text": [
      "Hi Coke your result is 10\n"
     ]
    }
   ],
   "source": [
    "print(answerAdd[\"result\"])"
   ]
  },
  {
   "cell_type": "code",
   "execution_count": 35,
   "id": "b4cc7f38",
   "metadata": {},
   "outputs": [
    {
     "name": "stdout",
     "output_type": "stream",
     "text": [
      "Hi Coke your result is 24\n"
     ]
    }
   ],
   "source": [
    "print(answerMul[\"result\"])"
   ]
  },
  {
   "cell_type": "code",
   "execution_count": 36,
   "id": "713944e1",
   "metadata": {},
   "outputs": [
    {
     "name": "stdout",
     "output_type": "stream",
     "text": [
      "Invalid Operation\n"
     ]
    }
   ],
   "source": [
    "print(answerWrong[\"result\"])"
   ]
  }
 ],
 "metadata": {
  "kernelspec": {
   "display_name": ".venv",
   "language": "python",
   "name": "python3"
  },
  "language_info": {
   "codemirror_mode": {
    "name": "ipython",
    "version": 3
   },
   "file_extension": ".py",
   "mimetype": "text/x-python",
   "name": "python",
   "nbconvert_exporter": "python",
   "pygments_lexer": "ipython3",
   "version": "3.13.4"
  }
 },
 "nbformat": 4,
 "nbformat_minor": 5
}
