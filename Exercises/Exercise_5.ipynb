{
 "cells": [
  {
   "cell_type": "markdown",
   "id": "82a8908d",
   "metadata": {},
   "source": [
    "<h1>Automatic High or Lower Game</h1>"
   ]
  },
  {
   "cell_type": "code",
   "execution_count": null,
   "id": "5c63194f",
   "metadata": {},
   "outputs": [],
   "source": [
    "from typing import TypedDict, Dict, List\n",
    "from langgraph.graph import StateGraph, END\n",
    "import random"
   ]
  },
  {
   "cell_type": "code",
   "execution_count": null,
   "id": "a4f48650",
   "metadata": {},
   "outputs": [],
   "source": [
    "class GameState(TypedDict):\n",
    "    player_name: str\n",
    "    guesses: List[int]\n",
    "    hint: str\n",
    "    attemps: int\n",
    "    lower_bound: int\n",
    "    upper_bound: int\n",
    "    correct_number: int\n",
    "\n"
   ]
  },
  {
   "cell_type": "code",
   "execution_count": 70,
   "id": "b1af4056",
   "metadata": {},
   "outputs": [],
   "source": [
    "def setup_node(state: GameState) -> GameState:\n",
    "    \"\"\"This node is where we set up all necesary data for the game\"\"\"\n",
    "    state[\"player_name\"] = f\"Welcome, {state['player_name']}!\"\n",
    "    state[\"correct_number\"] = random.randint(1, 20)\n",
    "    state[\"guesses\"] = []\n",
    "    state[\"attemps\"] = 0\n",
    "    state[\"hint\"] = \"Game started! Try to guess the number.\"\n",
    "    state[\"lower_bound\"] = 1 \n",
    "    state[\"upper_bound\"] = 20 \n",
    "    print(f\"{state['player_name']} The game has begun. I'm thinking of a number between 1 and 20.\")\n",
    "    return state\n",
    "\n",
    "\n",
    "def guess_node(state: GameState) -> GameState:\n",
    "    \"\"\"This node is where it needs to guess the correct number\"\"\"\n",
    "    state['guesses'].append(random.randint(state['lower_bound'], state['upper_bound']))\n",
    "    state['attemps'] += 1\n",
    "\n",
    "    print(f\"Attempt: {state['attemps']}, Guess: {state['guesses'][-1]},(Current range: {state['lower_bound']}-{state['upper_bound']}) correct number: {state['correct_number']}\")\n",
    "\n",
    "    return state\n",
    "\n",
    "def hint_node(state: GameState) -> GameState:\n",
    "    \"\"\"In this node is where it going to give hints if the number is high or low\"\"\"\n",
    "\n",
    "    last_guess = state['guesses'][-1]\n",
    "    correct_num = state['correct_number']\n",
    "\n",
    "    if last_guess < correct_num:\n",
    "        state['hint'] = f\"Your guess, {last_guess} is to low, try a little higher\"\n",
    "\n",
    "        state['lower_bound'] = max(state[\"lower_bound\"], last_guess + 1)\n",
    "\n",
    "    elif last_guess > correct_num:\n",
    "        state['hint'] = f\"Your guess, {last_guess} is to high, try a little lower\"\n",
    "\n",
    "        state['upper_bound'] = min(state[\"upper_bound\"], last_guess - 1)\n",
    "\n",
    "    else:\n",
    "        state['hint'] = f\"Your guess, {last_guess} is correct!, you are a legend!!\"\n",
    "\n",
    "\n",
    "    return state\n",
    "\n",
    "def should_continue(state: GameState) -> GameState:\n",
    "    \"\"\"Function to decide what to do next\"\"\"\n",
    "    last_guess = state['guesses'][-1]\n",
    "    if state[\"correct_number\"] == last_guess:\n",
    "        print(\"You made it, the correct number is\", state[\"correct_number\"])\n",
    "        return \"end\"\n",
    "    \n",
    "    elif state['attemps'] == 7:\n",
    "        print(\"Game Over, you have tried 7 times with out finding the correct numer\")\n",
    "        return \"end\"\n",
    "    else:\n",
    "        print(f\"Continuing game, Attempts {state[\"attemps\"]}/7\")\n",
    "        return \"continue\"\n"
   ]
  },
  {
   "cell_type": "code",
   "execution_count": 71,
   "id": "32ad88e3",
   "metadata": {},
   "outputs": [],
   "source": [
    "graph = StateGraph(GameState)\n",
    "\n",
    "graph.add_node(\"setup\", setup_node)\n",
    "graph.add_node(\"guess_node\", guess_node)\n",
    "graph.add_node(\"hint\", hint_node)\n",
    "\n",
    "\n",
    "graph.add_edge(\"setup\", \"guess_node\")\n",
    "graph.add_edge(\"guess_node\", \"hint\")\n",
    "\n",
    "graph.add_conditional_edges(\n",
    "    \"hint\",\n",
    "    should_continue,\n",
    "    {\n",
    "        \"continue\": \"guess_node\",\n",
    "        \"end\": END    \n",
    "    }\n",
    ")\n",
    "\n",
    "graph.set_entry_point(\"setup\")\n",
    "\n",
    "app = graph.compile()"
   ]
  },
  {
   "cell_type": "code",
   "execution_count": 72,
   "id": "f686a0a4",
   "metadata": {},
   "outputs": [
    {
     "data": {
      "image/png": "[encoded data removed]",
      "text/plain": [
       "<IPython.core.display.Image object>"
      ]
     },
     "metadata": {},
     "output_type": "display_data"
    }
   ],
   "source": [
    "from IPython.display import Image, display\n",
    "display(Image(app.get_graph().draw_mermaid_png()))"
   ]
  },
  {
   "cell_type": "code",
   "execution_count": 76,
   "id": "0eb07535",
   "metadata": {},
   "outputs": [
    {
     "name": "stdout",
     "output_type": "stream",
     "text": [
      "Welcome, Juli! The game has begun. I'm thinking of a number between 1 and 20.\n",
      "Attempt: 1, Guess: 8,(Current range: 1-20) correct number: 16\n",
      "Continuing game, Attempts 1/7\n",
      "Attempt: 2, Guess: 12,(Current range: 9-20) correct number: 16\n",
      "Continuing game, Attempts 2/7\n",
      "Attempt: 3, Guess: 18,(Current range: 13-20) correct number: 16\n",
      "Continuing game, Attempts 3/7\n",
      "Attempt: 4, Guess: 13,(Current range: 13-17) correct number: 16\n",
      "Continuing game, Attempts 4/7\n",
      "Attempt: 5, Guess: 14,(Current range: 14-17) correct number: 16\n",
      "Continuing game, Attempts 5/7\n",
      "Attempt: 6, Guess: 15,(Current range: 15-17) correct number: 16\n",
      "Continuing game, Attempts 6/7\n",
      "Attempt: 7, Guess: 17,(Current range: 16-17) correct number: 16\n",
      "Game Over, you have tried 7 times with out finding the correct numer\n"
     ]
    }
   ],
   "source": [
    "result = app.invoke({\"player_name\": \"Juli\", \"guesses\": [], \"attemps\": 0, \"lower_bound\": 1, \"upper_bound\": 20})"
   ]
  },
  {
   "cell_type": "code",
   "execution_count": null,
   "id": "d6a4864b",
   "metadata": {},
   "outputs": [],
   "source": []
  }
 ],
 "metadata": {
  "kernelspec": {
   "display_name": ".venv",
   "language": "python",
   "name": "python3"
  },
  "language_info": {
   "codemirror_mode": {
    "name": "ipython",
    "version": 3
   },
   "file_extension": ".py",
   "mimetype": "text/x-python",
   "name": "python",
   "nbconvert_exporter": "python",
   "pygments_lexer": "ipython3",
   "version": "3.13.4"
  }
 },
 "nbformat": 4,
 "nbformat_minor": 5
}
