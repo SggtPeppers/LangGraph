{
 "cells": [
  {
   "cell_type": "markdown",
   "id": "f045e13f",
   "metadata": {},
   "source": [
    "<h1>Conditional Agent</h1>"
   ]
  },
  {
   "cell_type": "code",
   "execution_count": 1,
   "id": "f5c7aad6",
   "metadata": {},
   "outputs": [],
   "source": [
    "from typing import TypedDict, List\n",
    "from langgraph.graph import StateGraph, END, START"
   ]
  },
  {
   "cell_type": "code",
   "execution_count": null,
   "id": "ba8964f8",
   "metadata": {},
   "outputs": [],
   "source": [
    "class AgentState(TypedDict):\n",
    "    number1: int\n",
    "    operation: str\n",
    "    number2: int\n",
    "    finalNumber: int"
   ]
  },
  {
   "cell_type": "code",
   "execution_count": 11,
   "id": "30e0b2a5",
   "metadata": {},
   "outputs": [],
   "source": [
    "def adder(state: AgentState) -> AgentState:\n",
    "    \"\"\"this node adds two numbers\"\"\"\n",
    "    state['finalNumber'] = state['number1'] + state['number2']\n",
    "\n",
    "    return state\n",
    "\n",
    "def substractor(state: AgentState) -> AgentState:\n",
    "    \"\"\"this node substract two numbers\"\"\"\n",
    "    state['finalNumber'] = state['number1'] - state['number2']\n",
    "\n",
    "    return state\n",
    "\n",
    "def decide_next_node(state: AgentState) -> AgentState:\n",
    "    \"\"\"this node will select the next node of the graph\"\"\"\n",
    "\n",
    "    if state['operation'] == \"+\":\n",
    "        return \"addition_operation\"\n",
    "\n",
    "    if state['operation'] == \"-\":\n",
    "        return \"substraction_operation\"\n"
   ]
  },
  {
   "cell_type": "code",
   "execution_count": 20,
   "id": "63a6433e",
   "metadata": {},
   "outputs": [],
   "source": [
    "graph = StateGraph(AgentState)\n",
    "\n",
    "graph.add_node(\"adder\", adder)\n",
    "graph.add_node(\"substractor\", substractor)\n",
    "graph.add_node(\"router\", lambda state:state)\n",
    "\n",
    "graph.add_edge(START, \"router\")\n",
    "\n",
    "graph.add_conditional_edges(\n",
    "    \"router\",\n",
    "    decide_next_node,\n",
    "    {\n",
    "        \"addition_operation\": \"adder\",\n",
    "        \"substraction_operation\": \"substractor\"    \n",
    "    }\n",
    ")\n",
    "\n",
    "graph.add_edge(\"adder\", END)\n",
    "graph.add_edge(\"substractor\", END)\n",
    "\n",
    "app = graph.compile()"
   ]
  },
  {
   "cell_type": "code",
   "execution_count": 14,
   "id": "61fc2d10",
   "metadata": {},
   "outputs": [
    {
     "data": {
      "image/png": "[encoded data removed]",
      "text/plain": [
       "<IPython.core.display.Image object>"
      ]
     },
     "metadata": {},
     "output_type": "display_data"
    }
   ],
   "source": [
    "from IPython.display import Image, display\n",
    "display(Image(app.get_graph().draw_mermaid_png()))"
   ]
  },
  {
   "cell_type": "code",
   "execution_count": 19,
   "id": "e97351ec",
   "metadata": {},
   "outputs": [
    {
     "name": "stdout",
     "output_type": "stream",
     "text": [
      "{'number1': 5, 'operation': '+', 'number2': 10, 'finalNumber': 15}\n"
     ]
    }
   ],
   "source": [
    "initial_state_one = AgentState(number1= 5, operation= \"+\", number2= 10)\n",
    "print(app.invoke(initial_state_one))\n"
   ]
  }
 ],
 "metadata": {
  "kernelspec": {
   "display_name": ".venv",
   "language": "python",
   "name": "python3"
  },
  "language_info": {
   "codemirror_mode": {
    "name": "ipython",
    "version": 3
   },
   "file_extension": ".py",
   "mimetype": "text/x-python",
   "name": "python",
   "nbconvert_exporter": "python",
   "pygments_lexer": "ipython3",
   "version": "3.13.4"
  }
 },
 "nbformat": 4,
 "nbformat_minor": 5
}
